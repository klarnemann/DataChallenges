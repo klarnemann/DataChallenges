{
 "cells": [
  {
   "cell_type": "markdown",
   "metadata": {},
   "source": [
    "# Kaggle Challenge: West Nile Virus Prediction\n",
    "https://www.kaggle.com/c/predict-west-nile-virus/overview"
   ]
  },
  {
   "cell_type": "code",
   "execution_count": 1,
   "metadata": {},
   "outputs": [],
   "source": [
    "%matplotlib inline\n",
    "\n",
    "import matplotlib.pyplot as plt\n",
    "import numpy as np\n",
    "import pandas as pd\n",
    "from datetime import datetime, time\n",
    "from sklearn.linear_model import LinearRegression"
   ]
  },
  {
   "cell_type": "markdown",
   "metadata": {},
   "source": [
    "# Clean and Format Data"
   ]
  },
  {
   "cell_type": "code",
   "execution_count": 2,
   "metadata": {},
   "outputs": [],
   "source": [
    "def fill_missing_data(df, drop_cols, missing_vals=['M','-'], fill_val=np.nan):\n",
    "    '''Remove missing values from DataFrame.\n",
    "    \n",
    "    Parameters\n",
    "    ----------\n",
    "    df : pandas.DataFrame\n",
    "    drop_cols : list (list of columns in df)\n",
    "    missing_vals : list (list of entries indicating missing data)\n",
    "    fill_val : float, int, str, etc (value to set missing data)\n",
    "    '''\n",
    "    df = df.copy()\n",
    "    for col in df.columns:\n",
    "        for val in missing_vals:\n",
    "            mask = df[col] == val\n",
    "            df.loc[mask, col] = fill_val\n",
    "    df.drop(drop_cols, axis=1, inplace=True)\n",
    "    return df\n",
    "\n",
    "def fill_trace_data(df, trace_cols=['SnowFall', 'PrecipTotal'], fill_vals=[0.001, 0.0001]):\n",
    "    df = df.copy()\n",
    "    for i, col in enumerate(trace_cols):\n",
    "        df[col] = df[col].str.strip(' ')\n",
    "        df.loc[df[col] == 'T', col] = np.array(fill_vals)[i]\n",
    "    return df"
   ]
  },
  {
   "cell_type": "code",
   "execution_count": 3,
   "metadata": {},
   "outputs": [],
   "source": [
    "def find_closest_station(df):\n",
    "    '''\n",
    "    Use latitude and longitude data to find the closest weather station.\n",
    "    \n",
    "    Parameters\n",
    "    ----------\n",
    "    df : pandas.DataFrame\n",
    "    '''\n",
    "    out_df = pd.DataFrame(index=df.index, columns=['ClosestStation', 'DistStation1', 'DistStation2'])\n",
    "    # Station 1: Chicago O'Hare International Airport, latitude & longitude\n",
    "    station1 = np.array([41.995, -87.933])\n",
    "    # Station 2: Chicago Midway International Airport, latitude & longitude\n",
    "    station2 = np.array([41.786, -87.752])\n",
    "    for row in df.index:\n",
    "        location = df[['Latitude', 'Longitude']].loc[row].values\n",
    "        dist_station1 = np.linalg.norm(location - station1)\n",
    "        dist_station2 = np.linalg.norm(location - station2)\n",
    "        out_df.loc[row, 'DistStation1'] = dist_station1\n",
    "        out_df.loc[row, 'DistStation2'] = dist_station2\n",
    "        if dist_station1 < dist_station2:\n",
    "            out_df.ClosestStation.loc[row] = 1\n",
    "        else:\n",
    "            out_df.ClosestStation.loc[row] = 2\n",
    "    return out_df"
   ]
  },
  {
   "cell_type": "code",
   "execution_count": 4,
   "metadata": {},
   "outputs": [],
   "source": [
    "def make_match_weather_df(df, weather1_df, weather2_df, shift_days=0):\n",
    "    '''\n",
    "    Use the date and closest station to get the appropriate weather data.\n",
    "    \n",
    "    df : pandas.DataFrame (data indexed by date)\n",
    "    weather1_df : pandas.DataFrame (Data from weather station 1)\n",
    "    weather2_df : pandas.DataFrame (Data from weather station 2)\n",
    "    shift_days : int (number of days to shift weather data backwards, >= 0)\n",
    "    '''\n",
    "    out_df = pd.DataFrame(index=df.index, columns=weather1_df.columns)\n",
    "    for ind in df.index:\n",
    "        if shift_days > 0:\n",
    "            date = pd.to_datetime(df.Date.loc[ind]) - datetime.timedelta(days=int(shift_days))\n",
    "        else:\n",
    "            date = pd.to_datetime(df.Date.loc[ind])\n",
    "        date_str = date.strftime('%Y-%m-%d')\n",
    "        if df.loc[ind, 'ClosestStation'] == 1:\n",
    "            out_df.loc[ind] = weather1_df.loc[date_str]\n",
    "        elif df.loc[ind, 'ClosestStation'] == 2:\n",
    "            out_df.loc[ind] = weather2_df.loc[date_str]\n",
    "    return out_df"
   ]
  },
  {
   "cell_type": "code",
   "execution_count": 5,
   "metadata": {},
   "outputs": [],
   "source": [
    "def get_unique_codes(codes, separator=' '):\n",
    "    '''\n",
    "    Identify the unique codes from a list of codes.\n",
    "    \n",
    "    codes : list or array-like\n",
    "    separator : str (str that can be used to separate entries)\n",
    "    \n",
    "    Parameters\n",
    "    ----------\n",
    "    codes : list (list of strings)'''\n",
    "    # convert codes to a string\n",
    "    join_codes = separator.join(codes)\n",
    "    # convert string of codes to a list\n",
    "    split_codes = join_codes.split(separator)\n",
    "    # get unique codes\n",
    "    unique_codes = list(np.unique(split_codes))\n",
    "    unique_codes.remove('')\n",
    "    return unique_codes\n",
    "\n",
    "def add_weather_codes(df):\n",
    "    '''\n",
    "    Add a column for each code indicating presence of weather event.\n",
    "    \n",
    "    Parameters\n",
    "    ----------\n",
    "    df : pandas.DataFrame\n",
    "    '''\n",
    "    codes = get_unique_codes(df.CodeSum)\n",
    "    out_df = pd.DataFrame(index=df.index, columns=codes)\n",
    "    for ind in df.index:\n",
    "        for code in codes:\n",
    "            if code in df.loc[ind, 'CodeSum']:\n",
    "                out_df.loc[ind, code] = 1\n",
    "            else:\n",
    "                out_df.loc[ind, code] = 0\n",
    "    return pd.concat([df, out_df], axis=1)"
   ]
  },
  {
   "cell_type": "code",
   "execution_count": 6,
   "metadata": {},
   "outputs": [],
   "source": [
    "# Define directory information\n",
    "projdir = '/Users/klarnemann/Documents/Insight/predict-west-nile-virus'\n",
    "datadir = '%s/data' % (projdir)"
   ]
  },
  {
   "cell_type": "code",
   "execution_count": 7,
   "metadata": {},
   "outputs": [],
   "source": [
    "# Load data\n",
    "spray_df = pd.read_csv('%s/spray.csv' % (datadir))\n",
    "test_df = pd.read_csv('%s/test.csv' % (datadir))\n",
    "train_df = pd.read_csv('%s/train.csv' % (datadir))\n",
    "weather_df = pd.read_csv('%s/weather.csv' % (datadir))"
   ]
  },
  {
   "cell_type": "code",
   "execution_count": 8,
   "metadata": {},
   "outputs": [],
   "source": [
    "# Divide the information on the weather codes (i.e. \"CodeSum\") into separate columns for each code\n",
    "weather_df = add_weather_codes(weather_df)\n",
    "weather_df.drop(['CodeSum'], axis=1, inplace=True)"
   ]
  },
  {
   "cell_type": "code",
   "execution_count": 9,
   "metadata": {},
   "outputs": [],
   "source": [
    "# Find the closest weather station for each index in train_df\n",
    "station_df = find_closest_station(train_df)"
   ]
  },
  {
   "cell_type": "code",
   "execution_count": 10,
   "metadata": {},
   "outputs": [],
   "source": [
    "# Add information on the closest weather station to train_df\n",
    "train_df = pd.concat([train_df, station_df], axis=1)"
   ]
  },
  {
   "cell_type": "code",
   "execution_count": 11,
   "metadata": {},
   "outputs": [
    {
     "name": "stderr",
     "output_type": "stream",
     "text": [
      "/Users/klarnemann/anaconda3/lib/python3.7/site-packages/pandas/core/ops.py:1649: FutureWarning: elementwise comparison failed; returning scalar instead, but in the future will perform elementwise comparison\n",
      "  result = method(y)\n"
     ]
    }
   ],
   "source": [
    "# Select and clean weather data from station 1\n",
    "weather1_df = weather_df[weather_df.Station == 1]\n",
    "weather1_df = fill_missing_data(weather1_df.copy(), drop_cols=['Water1', 'Station'])\n",
    "weather1_df = fill_trace_data(weather1_df.copy())\n",
    "weather1_df.index = weather1_df.Date"
   ]
  },
  {
   "cell_type": "code",
   "execution_count": 12,
   "metadata": {},
   "outputs": [],
   "source": [
    "# Select and clean weather data from station 2\n",
    "weather2_df = weather_df[weather_df.Station == 2]\n",
    "weather2_df = fill_missing_data(weather2_df.copy(), drop_cols=['Water1', 'Station'])\n",
    "weather2_df = fill_trace_data(weather2_df.copy())\n",
    "weather2_df.index = weather2_df.Date"
   ]
  },
  {
   "cell_type": "code",
   "execution_count": 13,
   "metadata": {},
   "outputs": [],
   "source": [
    "# Select the weather data from the closest station for each entry in train_df\n",
    "match_weather_df = make_match_weather_df(train_df, weather1_df, weather2_df, shift_days=0)"
   ]
  },
  {
   "cell_type": "markdown",
   "metadata": {},
   "source": [
    "# Analyze Data"
   ]
  },
  {
   "cell_type": "markdown",
   "metadata": {},
   "source": [
    "Given weather, location, testing, and spraying data, this competition asks you to predict when and where different species of mosquitos will test positive for West Nile virus. A more accurate method of predicting outbreaks of West Nile virus in mosquitos will help the City of Chicago and CPHD more efficiently and effectively allocate resources towards preventing transmission of this potentially deadly virus."
   ]
  },
  {
   "cell_type": "code",
   "execution_count": 14,
   "metadata": {},
   "outputs": [
    {
     "data": {
      "text/plain": [
       "Index(['Date', 'Address', 'Species', 'Block', 'Street', 'Trap',\n",
       "       'AddressNumberAndStreet', 'Latitude', 'Longitude', 'AddressAccuracy',\n",
       "       'NumMosquitos', 'WnvPresent', 'ClosestStation', 'DistStation1',\n",
       "       'DistStation2'],\n",
       "      dtype='object')"
      ]
     },
     "execution_count": 14,
     "metadata": {},
     "output_type": "execute_result"
    }
   ],
   "source": [
    "train_df.columns"
   ]
  },
  {
   "cell_type": "code",
   "execution_count": 15,
   "metadata": {},
   "outputs": [
    {
     "data": {
      "text/plain": [
       "Index(['Date', 'Tmax', 'Tmin', 'Tavg', 'Depart', 'DewPoint', 'WetBulb', 'Heat',\n",
       "       'Cool', 'Sunrise', 'Sunset', 'Depth', 'SnowFall', 'PrecipTotal',\n",
       "       'StnPressure', 'SeaLevel', 'ResultSpeed', 'ResultDir', 'AvgSpeed',\n",
       "       'BCFG', 'BR', 'DZ', 'FG', 'FG+', 'FU', 'GR', 'HZ', 'MIFG', 'RA', 'SN',\n",
       "       'SQ', 'TS', 'TSRA', 'VCFG', 'VCTS'],\n",
       "      dtype='object')"
      ]
     },
     "execution_count": 15,
     "metadata": {},
     "output_type": "execute_result"
    }
   ],
   "source": [
    "match_weather_df.columns"
   ]
  },
  {
   "cell_type": "code",
   "execution_count": 16,
   "metadata": {},
   "outputs": [
    {
     "data": {
      "text/plain": [
       "array(['CULEX ERRATICUS', 'CULEX PIPIENS', 'CULEX PIPIENS/RESTUANS',\n",
       "       'CULEX RESTUANS', 'CULEX SALINARIUS', 'CULEX TARSALIS',\n",
       "       'CULEX TERRITANS'], dtype=object)"
      ]
     },
     "execution_count": 16,
     "metadata": {},
     "output_type": "execute_result"
    }
   ],
   "source": [
    "np.unique(train_df.Species)"
   ]
  },
  {
   "cell_type": "code",
   "execution_count": 26,
   "metadata": {},
   "outputs": [
    {
     "data": {
      "text/plain": [
       "Species\n",
       "CULEX ERRATICUS           0.000000\n",
       "CULEX PIPIENS             0.005373\n",
       "CULEX PIPIENS/RESTUANS    0.003954\n",
       "CULEX RESTUANS            0.002091\n",
       "CULEX SALINARIUS          0.000000\n",
       "CULEX TARSALIS            0.000000\n",
       "CULEX TERRITANS           0.000000\n",
       "dtype: float64"
      ]
     },
     "execution_count": 26,
     "metadata": {},
     "output_type": "execute_result"
    }
   ],
   "source": [
    "# Percent of mosquitos with WNV by species\n",
    "tmp_df = train_df.groupby('Species')['NumMosquitos', 'WnvPresent'].apply(np.sum)\n",
    "tmp_df['WnvPresent'] / tmp_df['NumMosquitos']"
   ]
  },
  {
   "cell_type": "code",
   "execution_count": null,
   "metadata": {},
   "outputs": [],
   "source": []
  }
 ],
 "metadata": {
  "kernelspec": {
   "display_name": "Python 3",
   "language": "python",
   "name": "python3"
  }
 },
 "nbformat": 4,
 "nbformat_minor": 2
}
